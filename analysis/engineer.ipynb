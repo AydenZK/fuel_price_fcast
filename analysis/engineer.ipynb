{
 "cells": [
  {
   "cell_type": "code",
   "execution_count": 1,
   "metadata": {},
   "outputs": [],
   "source": [
    "import warnings\n",
    "import os\n",
    "\n",
    "import pandas as pd\n",
    "import numpy as np\n",
    "import plotly.express as px\n",
    "import plotly.graph_objects as go\n",
    "from sklearn.linear_model import LinearRegression\n",
    "from datetime import datetime\n",
    "from tqdm import tqdm\n",
    "\n",
    "warnings.simplefilter(action='ignore', category=FutureWarning)\n",
    "pd.options.mode.chained_assignment = None"
   ]
  },
  {
   "cell_type": "code",
   "execution_count": 2,
   "metadata": {},
   "outputs": [],
   "source": [
    "def parse_datetime(dt):\n",
    "    time_formats = [\"%d/%m/%Y %H:%M:%S %p\", \"%Y-%m-%d %H:%M:%S\", '%Y-%m-%d %H:%M:%S.%f']\n",
    "\n",
    "    for fmt in time_formats:\n",
    "        try:\n",
    "            return datetime.strptime(dt, fmt)\n",
    "        except ValueError:\n",
    "            pass\n",
    "    \n",
    "    raise ValueError('no valid date format found')\n",
    "\n",
    "def preprocess(file_path: str ) -> pd.DataFrame:\n",
    "    \"preprocesses the raw dataset into a usable format for data science\"\n",
    "    # Read in dataframe\n",
    "    for header_row in [0,1,2,3]:\n",
    "        df_raw = pd.read_excel(file_path, header=header_row)\n",
    "        if 'PriceUpdatedDate' in df_raw.columns:\n",
    "            break\n",
    "    \n",
    "    # Filter df, convert to dt\n",
    "    try:\n",
    "        df = df_raw[df_raw['FuelCode']==\"U91\"]\n",
    "    except KeyError:\n",
    "        df = df_raw[df_raw['FuelType']==\"U91\"]\n",
    "\n",
    "    df['long_date'] = df['PriceUpdatedDate'].apply(lambda x: parse_datetime(str(x)))\n",
    "    df['price'] = df['Price']\n",
    "    df = df[['long_date', 'price']].sort_values('long_date').reset_index(drop=True)\n",
    "\n",
    "    # Create day, month, year vars\n",
    "    df['day'] = df['long_date'].apply(lambda x: x.day)\n",
    "    df['month'] = df['long_date'].apply(lambda x: x.month)\n",
    "    df['year'] = df['long_date'].apply(lambda x: x.year)\n",
    "\n",
    "    # Get mean obs for each day\n",
    "    df_agg = df.groupby(['day', 'month', 'year']).mean().reset_index()\n",
    "    df_agg['date'] = df_agg.apply(lambda row: datetime(year=int(row['year']), month=int(row['month']), day=int(row['day'])), axis=1)\n",
    "    \n",
    "    return df_agg[['date', 'price']]\n",
    "\n",
    "def bind_dfs(raw_data):\n",
    "    df_all = pd.concat(list(raw_data.values()))\n",
    "    return pd.DataFrame(df_all.groupby('date')['price'].mean()).sort_values('date').reset_index()"
   ]
  },
  {
   "cell_type": "code",
   "execution_count": null,
   "metadata": {},
   "outputs": [],
   "source": [
    "RAW_DATA = {}\n",
    "for i, filename in tqdm(enumerate(os.listdir('data'))):\n",
    "    if i <= 0:\n",
    "        df_raw = preprocess(f'data/{filename}')\n",
    "        RAW_DATA[filename] = df_raw\n",
    "        print(f\"\\U00002705 Processed {filename}. nrows = {len(df_raw)}\")"
   ]
  },
  {
   "cell_type": "code",
   "execution_count": null,
   "metadata": {},
   "outputs": [],
   "source": [
    "df_march = pd.read_csv(\"march_data.csv\")\n",
    "df_march['date'] = pd.to_datetime(df_march['date'])\n",
    "RAW_DATA['march2023'] = df_march"
   ]
  },
  {
   "cell_type": "code",
   "execution_count": null,
   "metadata": {},
   "outputs": [],
   "source": [
    "df_all = bind_dfs(RAW_DATA)\n",
    "df_all"
   ]
  },
  {
   "cell_type": "code",
   "execution_count": null,
   "metadata": {},
   "outputs": [],
   "source": [
    "df_all.to_csv('data.csv')"
   ]
  }
 ],
 "metadata": {
  "kernelspec": {
   "display_name": "ml39",
   "language": "python",
   "name": "ml39"
  },
  "language_info": {
   "codemirror_mode": {
    "name": "ipython",
    "version": 3
   },
   "file_extension": ".py",
   "mimetype": "text/x-python",
   "name": "python",
   "nbconvert_exporter": "python",
   "pygments_lexer": "ipython3",
   "version": "3.9.5"
  },
  "orig_nbformat": 4
 },
 "nbformat": 4,
 "nbformat_minor": 2
}
